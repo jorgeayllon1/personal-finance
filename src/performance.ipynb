{
 "cells": [
  {
   "cell_type": "markdown",
   "metadata": {},
   "source": [
    "# Performance des investissements"
   ]
  },
  {
   "cell_type": "code",
   "execution_count": null,
   "metadata": {},
   "outputs": [],
   "source": [
    "import pandas as pd\n",
    "import matplotlib.pyplot as plt\n",
    "import seaborn as sns\n",
    "import yaml"
   ]
  },
  {
   "cell_type": "code",
   "execution_count": null,
   "metadata": {},
   "outputs": [],
   "source": [
    "with open(\"config.yaml\", \"r\") as f:\n",
    "    config = yaml.safe_load(f)\n",
    "\n",
    "INTERET_LIVRET_A = config[\"INTERET_LIVRET_A\"]\n",
    "DATA_FOLDER = config[\"DATA_FOLDER\"]\n",
    "INFLATION = config[\"INFLATION\"]\n",
    "IMAGE_FOLDER = config[\"IMAGE_FOLDER\"]\n",
    "TMP_FOLDER = config[\"TMP_FOLDER\"]"
   ]
  },
  {
   "cell_type": "code",
   "execution_count": null,
   "metadata": {},
   "outputs": [],
   "source": [
    "def calcul_pmv(row):\n",
    "    if row[\"Type\"] != \"livret\":\n",
    "        return row[\"Valorisation\"] - row[\"Apport\"]\n",
    "    else:\n",
    "        return 0\n",
    "\n",
    "\n",
    "def calcul_perf(row):\n",
    "    if row[\"Type\"] != \"livret\":\n",
    "        return row[\"Plus-Moins Value\"] / row[\"Valorisation\"]\n",
    "    else:\n",
    "        return INTERET_LIVRET_A\n",
    "\n",
    "\n",
    "def calcul_apport(df, actif):\n",
    "    return df.loc[df[\"Actif\"] == actif, \"Montant\"].sum()\n",
    "\n",
    "\n",
    "def color_based_on_value(val):\n",
    "    if val > INFLATION * 2:\n",
    "        return \"background-color: lightgreen\"\n",
    "    elif val > INFLATION:\n",
    "        return \"background-color: gold\"\n",
    "    else:\n",
    "        return \"background-color: salmon\"\n",
    "\n",
    "\n",
    "def my_print(df):\n",
    "    return (\n",
    "        df.drop(columns=[\"Type\"])\n",
    "        .style.format(\n",
    "            {\n",
    "                \"Valorisation\": \"{:,.2f}€\",\n",
    "                \"Apport\": \"{:,.2f}€\",\n",
    "                \"Plus-Moins Value\": \"{:,.2f}€\",\n",
    "                \"Performance\": \"{:.2%}\",\n",
    "            }\n",
    "        )\n",
    "        .hide()\n",
    "    ).map(color_based_on_value, subset=[\"Performance\"])"
   ]
  },
  {
   "cell_type": "code",
   "execution_count": null,
   "metadata": {},
   "outputs": [],
   "source": [
    "apport = pd.read_csv(DATA_FOLDER + \"apport.csv\")\n",
    "apport[\"Date\"] = pd.to_datetime(apport[\"Date\"], dayfirst=True)\n",
    "apport[\"Montant\"] = pd.to_numeric(apport[\"Montant\"])"
   ]
  },
  {
   "cell_type": "code",
   "execution_count": null,
   "metadata": {},
   "outputs": [],
   "source": [
    "patrimoine = pd.read_csv(DATA_FOLDER + \"valorisation.csv\")\n",
    "patrimoine[\"Valorisation\"] = pd.to_numeric(patrimoine[\"Valorisation\"])\n",
    "patrimoine = patrimoine.sort_values(\n",
    "    by=[\"Valorisation\"], ascending=False, ignore_index=True\n",
    ")\n",
    "apport_list = []\n",
    "for actif in patrimoine[\"Actif\"]:\n",
    "    apport_list.append(calcul_apport(apport, actif))\n",
    "patrimoine[\"Apport\"] = apport_list"
   ]
  },
  {
   "cell_type": "code",
   "execution_count": null,
   "metadata": {},
   "outputs": [],
   "source": [
    "patrimoine[\"Plus-Moins Value\"] = patrimoine.apply(calcul_pmv, axis=1)\n",
    "patrimoine[\"Performance\"] = patrimoine.apply(calcul_perf, axis=1)"
   ]
  },
  {
   "cell_type": "code",
   "execution_count": null,
   "metadata": {},
   "outputs": [],
   "source": [
    "perf_total = (\n",
    "    patrimoine.loc[patrimoine[\"Type\"] != \"livret\", \"Plus-Moins Value\"].sum()\n",
    "    / patrimoine.loc[patrimoine[\"Type\"] != \"livret\", \"Valorisation\"].sum()\n",
    ")\n",
    "\n",
    "pmv_total = patrimoine.loc[patrimoine[\"Type\"] != \"livret\", \"Plus-Moins Value\"].sum()\n",
    "\n",
    "patrimoine.to_csv(TMP_FOLDER + \"patrimoine.csv\", encoding=\"utf-8\")\n",
    "my_print(patrimoine)"
   ]
  },
  {
   "cell_type": "code",
   "execution_count": null,
   "metadata": {},
   "outputs": [],
   "source": [
    "normal_print = lambda x: \"{:,.2f}€\".format(x)\n",
    "plus_value_clean = patrimoine[\"Plus-Moins Value\"].apply(normal_print)\n",
    "\n",
    "plt.figure(figsize=(10, 6))\n",
    "barplot = sns.barplot(data=patrimoine, x=\"Actif\", y=\"Performance\", hue=plus_value_clean)\n",
    "\n",
    "for index, row in patrimoine.iterrows():\n",
    "    # Afficher la performance avec 2 décimales\n",
    "    plt.text(\n",
    "        index,\n",
    "        row[\"Performance\"],  # Position Y légèrement au-dessus de la barre\n",
    "        f\"{row['Performance']*100:.2f} %\",  # Texte avec formatage à 2 décimales\n",
    "        ha=\"center\",\n",
    "        va=\"bottom\",\n",
    "        fontsize=10,\n",
    "        color=\"black\",\n",
    "    )\n",
    "\n",
    "plt.text(\n",
    "    2,\n",
    "    -0.05,\n",
    "    f\"Plus/Moins value total : {pmv_total:,.2f}€\\nPerformance total : {perf_total:.2%}\",\n",
    "    ha=\"center\",\n",
    "    fontsize=12,\n",
    "    color=\"black\",\n",
    ")\n",
    "\n",
    "plt.title(\"Pérformance par Actif\", fontsize=14)\n",
    "plt.xlabel(\"Actif\")\n",
    "plt.ylabel(\"Pérformance\")\n",
    "plt.legend(title=\"Plus/Moins value\")\n",
    "plt.tight_layout()\n",
    "\n",
    "plt.savefig(IMAGE_FOLDER + \"perf-par-actif.png\")\n",
    "plt.close()"
   ]
  }
 ],
 "metadata": {
  "kernelspec": {
   "display_name": "base",
   "language": "python",
   "name": "python3"
  },
  "language_info": {
   "codemirror_mode": {
    "name": "ipython",
    "version": 3
   },
   "file_extension": ".py",
   "mimetype": "text/x-python",
   "name": "python",
   "nbconvert_exporter": "python",
   "pygments_lexer": "ipython3",
   "version": "3.12.7"
  }
 },
 "nbformat": 4,
 "nbformat_minor": 2
}
