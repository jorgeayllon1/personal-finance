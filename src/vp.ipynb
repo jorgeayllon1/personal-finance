{
 "cells": [
  {
   "cell_type": "markdown",
   "metadata": {},
   "source": [
    "# Tableau de bord"
   ]
  },
  {
   "cell_type": "code",
   "execution_count": null,
   "metadata": {},
   "outputs": [],
   "source": [
    "from IPython.display import Image, display\n",
    "import yaml\n",
    "\n",
    "with open(\"config.yaml\", \"r\") as f:\n",
    "    config = yaml.safe_load(f)\n",
    "\n",
    "IMAGE_FOLDER = config[\"IMAGE_FOLDER\"]\n",
    "RAPPORT_FOLDER = config[\"RAPPORT_FOLDER\"]\n",
    "\n",
    "graph_files = [\n",
    "    IMAGE_FOLDER + \"composition-patrimoine.png\",\n",
    "    IMAGE_FOLDER + \"perf-par-actif.png\",\n",
    "    IMAGE_FOLDER + \"repartition-depenses.png\",\n",
    "    IMAGE_FOLDER + \"projection.png\",\n",
    "]\n",
    "\n",
    "for file in graph_files:\n",
    "    display(Image(filename=file))"
   ]
  },
  {
   "cell_type": "code",
   "execution_count": 2,
   "metadata": {},
   "outputs": [],
   "source": [
    "from matplotlib.backends.backend_pdf import PdfPages\n",
    "import matplotlib.pyplot as plt\n",
    "import os\n",
    "from datetime import datetime\n",
    "\n",
    "ajd = datetime.today().strftime(\"%d-%m-%Y\")\n",
    "\n",
    "with open(\"suivi.txt\", \"r\", encoding=\"utf-8\") as file:\n",
    "    lines = file.readlines()\n",
    "\n",
    "text_content = \"\".join(lines)\n",
    "\n",
    "with PdfPages(RAPPORT_FOLDER + \"rapport-financier_\" + ajd + \".pdf\") as pdf:\n",
    "    page_number = 1\n",
    "    for file in graph_files:\n",
    "        if os.path.exists(file):\n",
    "            img = plt.imread(file)\n",
    "            fig, ax = plt.subplots(figsize=(10, 8))\n",
    "            ax.imshow(img)\n",
    "            ax.axis(\"off\")\n",
    "            plt.text(\n",
    "                0.98,\n",
    "                0.02,\n",
    "                page_number,\n",
    "                fontsize=10,\n",
    "                ha=\"right\",\n",
    "                transform=plt.gcf().transFigure,\n",
    "            )\n",
    "            pdf.savefig(fig)\n",
    "            plt.close(fig)\n",
    "        page_number += 1\n",
    "    fig = plt.figure(figsize=(8.5, 11))\n",
    "    plt.axis(\"off\")\n",
    "    plt.text(\n",
    "        0.98,\n",
    "        0.02,\n",
    "        page_number,\n",
    "        fontsize=10,\n",
    "        ha=\"right\",\n",
    "        transform=plt.gcf().transFigure,\n",
    "    )\n",
    "    fig.text(0.1, 0.8, text_content, fontsize=10, va=\"top\", wrap=True)\n",
    "    pdf.savefig(fig)\n",
    "    plt.close()\n",
    "\n",
    "    pdf.infodict()[\"Title\"] = \"Rapport financier\"\n",
    "    pdf.infodict()[\"Title\"] = \"Jorge Ayllon\"\n",
    "    pdf.infodict()[\"Title\"] = \"Analyse financière avec graphiques\"\n",
    "    pdf.infodict()[\"Title\"] = ajd"
   ]
  }
 ],
 "metadata": {
  "kernelspec": {
   "display_name": "base",
   "language": "python",
   "name": "python3"
  },
  "language_info": {
   "codemirror_mode": {
    "name": "ipython",
    "version": 3
   },
   "file_extension": ".py",
   "mimetype": "text/x-python",
   "name": "python",
   "nbconvert_exporter": "python",
   "pygments_lexer": "ipython3",
   "version": "3.12.7"
  }
 },
 "nbformat": 4,
 "nbformat_minor": 2
}
