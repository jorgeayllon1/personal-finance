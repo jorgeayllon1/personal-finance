{
 "cells": [
  {
   "cell_type": "markdown",
   "metadata": {},
   "source": [
    "# Indicateurs et ratios"
   ]
  },
  {
   "cell_type": "markdown",
   "metadata": {},
   "source": [
    "## Calcul des indicateurs et ratios"
   ]
  },
  {
   "cell_type": "code",
   "execution_count": 8,
   "metadata": {},
   "outputs": [],
   "source": [
    "import pandas as pd\n",
    "import yaml"
   ]
  },
  {
   "cell_type": "code",
   "execution_count": 9,
   "metadata": {},
   "outputs": [],
   "source": [
    "with open(\"config.yaml\", \"r\") as f:\n",
    "    config = yaml.safe_load(f)\n",
    "\n",
    "DATA_FOLDER = config[\"DATA_FOLDER\"]"
   ]
  },
  {
   "cell_type": "code",
   "execution_count": 10,
   "metadata": {},
   "outputs": [],
   "source": [
    "revenus_depenses = pd.read_csv(DATA_FOLDER + \"revenus-depenses.csv\")\n",
    "revenus_depenses[\"Montant\"] = pd.to_numeric(revenus_depenses[\"Montant\"])\n",
    "revenus_depenses = revenus_depenses.sort_values(by=[\"Montant\"], ascending=False)"
   ]
  },
  {
   "cell_type": "code",
   "execution_count": 11,
   "metadata": {},
   "outputs": [],
   "source": [
    "patrimoine = pd.read_csv(DATA_FOLDER + \"patrimoine.csv\")\n",
    "patrimoine[\"Valorisation\"] = pd.to_numeric(patrimoine[\"Valorisation\"])"
   ]
  },
  {
   "cell_type": "code",
   "execution_count": 12,
   "metadata": {},
   "outputs": [],
   "source": [
    "depense = revenus_depenses.loc[revenus_depenses[\"Type\"] == \"depense\"]\n",
    "depense_total = depense[\"Montant\"].sum()"
   ]
  },
  {
   "cell_type": "code",
   "execution_count": 13,
   "metadata": {},
   "outputs": [],
   "source": [
    "revenu_total = revenus_depenses.loc[\n",
    "    revenus_depenses[\"Type\"] == \"revenu\", \"Montant\"\n",
    "].sum()\n",
    "epargne = revenu_total - depense_total\n",
    "taux_depargne = epargne / revenu_total\n",
    "\n",
    "pourcentage_don = depense[\"Montant\"].values[1] / revenu_total\n",
    "ratio_liquidite = (\n",
    "    patrimoine.loc[patrimoine[\"Type\"] == \"livret\", \"Valorisation\"].sum() / depense_total\n",
    ")\n",
    "\n",
    "taux_depense_variable = (\n",
    "    revenus_depenses.loc[\n",
    "        (revenus_depenses[\"Nom\"] == \"Courante\")\n",
    "        & (revenus_depenses[\"Type\"] == \"depense\"),\n",
    "        \"Montant\",\n",
    "    ].sum()\n",
    "    / revenu_total\n",
    ")\n",
    "taux_depense_mensuelle = (\n",
    "    revenus_depenses.loc[\n",
    "        (revenus_depenses[\"Nom\"] != \"Courante\")\n",
    "        & (revenus_depenses[\"Type\"] == \"depense\"),\n",
    "        \"Montant\",\n",
    "    ].sum()\n",
    "    / revenu_total\n",
    ")"
   ]
  },
  {
   "cell_type": "code",
   "execution_count": null,
   "metadata": {},
   "outputs": [],
   "source": [
    "print(\"Taux d'épargne: {:.2%}\".format(taux_depargne))\n",
    "print(\"Taux de dépense variable: {:.2%}\".format(taux_depense_variable))\n",
    "print(\"Taux de dépense mensuelle: {:.2%}\".format(taux_depense_mensuelle))\n",
    "print(\"Pourcentage de don: {:.2%}\".format(pourcentage_don))\n",
    "print(\"Ratio de liquidité: {:.2}\".format(ratio_liquidite))"
   ]
  }
 ],
 "metadata": {
  "kernelspec": {
   "display_name": "base",
   "language": "python",
   "name": "python3"
  },
  "language_info": {
   "codemirror_mode": {
    "name": "ipython",
    "version": 3
   },
   "file_extension": ".py",
   "mimetype": "text/x-python",
   "name": "python",
   "nbconvert_exporter": "python",
   "pygments_lexer": "ipython3",
   "version": "3.12.7"
  }
 },
 "nbformat": 4,
 "nbformat_minor": 2
}
