{
 "cells": [
  {
   "cell_type": "markdown",
   "metadata": {},
   "source": [
    "# Indicateurs et ratios"
   ]
  },
  {
   "cell_type": "markdown",
   "metadata": {},
   "source": [
    "## Calcul des indicateurs et ratios"
   ]
  },
  {
   "cell_type": "code",
   "execution_count": null,
   "metadata": {},
   "outputs": [],
   "source": [
    "import pandas as pd\n",
    "import yaml\n",
    "import requests"
   ]
  },
  {
   "cell_type": "code",
   "execution_count": null,
   "metadata": {},
   "outputs": [],
   "source": [
    "def get_eur_to_usdc_rate():\n",
    "    # API publique pour le taux EUR/USDC via CoinGecko\n",
    "    url = \"https://api.coingecko.com/api/v3/simple/price\"\n",
    "    params = {\"ids\": \"usd-coin\", \"vs_currencies\": \"eur\"}  # ID pour USDC  # Contre EUR\n",
    "\n",
    "    response = requests.get(url, params=params)\n",
    "    data = response.json()\n",
    "\n",
    "    # Récupère le taux EUR -> USDC\n",
    "    rate = 1 / data[\"usd-coin\"][\"eur\"]  # Inverser car API donne EUR -> USDC\n",
    "    return rate\n",
    "\n",
    "\n",
    "RATIO_EUR_USDC = get_eur_to_usdc_rate()\n",
    "\n",
    "\n",
    "def convert_eur_to_usdc(euros):\n",
    "    return euros * RATIO_EUR_USDC"
   ]
  },
  {
   "cell_type": "code",
   "execution_count": null,
   "metadata": {},
   "outputs": [],
   "source": [
    "with open(\"config.yaml\", \"r\") as f:\n",
    "    config = yaml.safe_load(f)\n",
    "\n",
    "DATA_FOLDER = config[\"DATA_FOLDER\"]\n",
    "TMP_FOLDER = config[\"TMP_FOLDER\"]\n",
    "RATIO_TRADE_MAX = config[\"RATIO_TRADE_MAX\"]"
   ]
  },
  {
   "cell_type": "code",
   "execution_count": null,
   "metadata": {},
   "outputs": [],
   "source": [
    "revenus_depenses = pd.read_csv(DATA_FOLDER + \"revenus-depenses.csv\")\n",
    "revenus_depenses[\"Montant\"] = pd.to_numeric(revenus_depenses[\"Montant\"])\n",
    "revenus_depenses = revenus_depenses.sort_values(by=[\"Montant\"], ascending=False)"
   ]
  },
  {
   "cell_type": "code",
   "execution_count": null,
   "metadata": {},
   "outputs": [],
   "source": [
    "patrimoine = pd.read_csv(TMP_FOLDER + \"patrimoine.csv\")"
   ]
  },
  {
   "cell_type": "code",
   "execution_count": null,
   "metadata": {},
   "outputs": [],
   "source": [
    "depense = revenus_depenses.loc[revenus_depenses[\"Type\"] == \"depense\"]\n",
    "depense_total = depense[\"Montant\"].sum()"
   ]
  },
  {
   "cell_type": "code",
   "execution_count": null,
   "metadata": {},
   "outputs": [],
   "source": [
    "revenu_total = revenus_depenses.loc[\n",
    "    revenus_depenses[\"Type\"] == \"revenu\", \"Montant\"\n",
    "].sum()\n",
    "epargne = revenu_total - depense_total\n",
    "taux_depargne = epargne / revenu_total\n",
    "\n",
    "pourcentage_don = depense[\"Montant\"].values[1] / revenu_total\n",
    "\n",
    "epargne_precaution = depense_total *3 \n",
    "taux_depense_variable = (\n",
    "    revenus_depenses.loc[\n",
    "        (revenus_depenses[\"Nom\"] == \"Courante\")\n",
    "        & (revenus_depenses[\"Type\"] == \"depense\"),\n",
    "        \"Montant\",\n",
    "    ].sum()\n",
    "    / revenu_total\n",
    ")\n",
    "taux_depense_mensuelle = (\n",
    "    revenus_depenses.loc[\n",
    "        (revenus_depenses[\"Nom\"] != \"Courante\")\n",
    "        & (revenus_depenses[\"Type\"] == \"depense\"),\n",
    "        \"Montant\",\n",
    "    ].sum()\n",
    "    / revenu_total\n",
    ")"
   ]
  },
  {
   "cell_type": "code",
   "execution_count": null,
   "metadata": {},
   "outputs": [],
   "source": [
    "print(\"Taux d'épargne: {:.2%}\".format(taux_depargne))\n",
    "print(\"Taux de dépense variable: {:.2%}\".format(taux_depense_variable))\n",
    "print(\"Taux de dépense mensuelle: {:.2%}\".format(taux_depense_mensuelle))\n",
    "print(\"Pourcentage de don: {:.2%}\".format(pourcentage_don))\n",
    "print(\"Epargne de précaution: {:.2f}\".format(epargne_precaution))"
   ]
  },
  {
   "cell_type": "markdown",
   "metadata": {},
   "source": [
    "# Crypto"
   ]
  },
  {
   "cell_type": "code",
   "execution_count": null,
   "metadata": {},
   "outputs": [],
   "source": [
    "trade_max_crypto = (\n",
    "    patrimoine.loc[patrimoine[\"Type\"] == \"numerique\", \"Plus-Moins Value\"].sum()\n",
    "    * RATIO_TRADE_MAX\n",
    ")\n",
    "trade_crypto_max_usdc = convert_eur_to_usdc(trade_max_crypto)"
   ]
  },
  {
   "cell_type": "code",
   "execution_count": null,
   "metadata": {},
   "outputs": [],
   "source": [
    "print(\"Mon trade max crypto est de {:.2f}€\".format(trade_max_crypto))\n",
    "print(\"Soit {:.2f}USDC\".format(trade_crypto_max_usdc))"
   ]
  }
 ],
 "metadata": {
  "kernelspec": {
   "display_name": "base",
   "language": "python",
   "name": "python3"
  },
  "language_info": {
   "codemirror_mode": {
    "name": "ipython",
    "version": 3
   },
   "file_extension": ".py",
   "mimetype": "text/x-python",
   "name": "python",
   "nbconvert_exporter": "python",
   "pygments_lexer": "ipython3",
   "version": "3.12.7"
  }
 },
 "nbformat": 4,
 "nbformat_minor": 2
}
