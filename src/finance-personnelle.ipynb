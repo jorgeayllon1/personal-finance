{
 "cells": [
  {
   "cell_type": "markdown",
   "id": "b7c028ff",
   "metadata": {},
   "source": [
    "# Calculs finance"
   ]
  },
  {
   "cell_type": "markdown",
   "id": "c0d0c7c4",
   "metadata": {},
   "source": [
    "## Traitement basique"
   ]
  },
  {
   "cell_type": "code",
   "execution_count": 219,
   "id": "971f9ad0",
   "metadata": {},
   "outputs": [
    {
     "name": "stdout",
     "output_type": "stream",
     "text": [
      "Hello World\n"
     ]
    }
   ],
   "source": [
    "import pandas as pd\n",
    "import matplotlib.pyplot as plt\n",
    "import seaborn as sns\n",
    "import requests"
   ]
  },
  {
   "cell_type": "markdown",
   "id": "eac92ef3",
   "metadata": {},
   "source": [
    "### Variable de calcul"
   ]
  },
  {
   "cell_type": "code",
   "execution_count": 220,
   "id": "8c2cd8b6",
   "metadata": {},
   "outputs": [],
   "source": [
    "def get_eur_to_usdc_rate():\n",
    "    # API publique pour le taux EUR/USDC via CoinGecko\n",
    "    url = \"https://api.coingecko.com/api/v3/simple/price\"\n",
    "    params = {\"ids\": \"usd-coin\", \"vs_currencies\": \"eur\"}  # ID pour USDC  # Contre EUR\n",
    "\n",
    "    response = requests.get(url, params=params)\n",
    "    data = response.json()\n",
    "\n",
    "    # Récupère le taux EUR -> USDC\n",
    "    rate = 1 / data[\"usd-coin\"][\"eur\"]  # Inverser car API donne EUR -> USDC\n",
    "    return rate"
   ]
  },
  {
   "cell_type": "code",
   "execution_count": 221,
   "id": "8aa3af05",
   "metadata": {},
   "outputs": [],
   "source": [
    "# %%script echo skipping\n",
    "FLAT_TAXE = 0.33\n",
    "INFLATION = 0.037\n",
    "IR = 0.19\n",
    "PS = 0.172\n",
    "INTERET_LIVRET_A = 0.03\n",
    "RATIO_EUR_USDC = get_eur_to_usdc_rate()\n",
    "RATIO_TRADE_MAX = 0.10"
   ]
  },
  {
   "cell_type": "code",
   "execution_count": 222,
   "id": "dd69d25d",
   "metadata": {},
   "outputs": [],
   "source": [
    "def my_print(df):\n",
    "    return (\n",
    "        df.drop(columns=[\"Type\"])\n",
    "        .style.format(\n",
    "            {\n",
    "                \"Valorisation\": \"{:,.2f}€\",\n",
    "                \"Apport\": \"{:,.2f}€\",\n",
    "                \"Plus-Moins Value\": \"{:,.2f}€\",\n",
    "                \"Performance\": \"{:.2%}\",\n",
    "            }\n",
    "        )\n",
    "        .hide()\n",
    "    ).map(color_based_on_value, subset=[\"Performance\"])\n",
    "\n",
    "\n",
    "def print_revenu(row):\n",
    "    return row.style.format(\n",
    "        {\n",
    "            \"Montant\": \"{:,.2f}€\",\n",
    "        }\n",
    "    ).hide()\n",
    "\n",
    "\n",
    "def print_objectif(row):\n",
    "    return (\n",
    "        row.drop(columns=[\"Etat\"])\n",
    "        .style.format(\n",
    "            {\n",
    "                \"Valeur\": \"{:,.2f}€\",\n",
    "                \"Progression\": \"{:.2%}\",\n",
    "            }\n",
    "        )\n",
    "        .hide()\n",
    "    )\n",
    "\n",
    "\n",
    "def format_label(pct, all_vals):\n",
    "    absolute = float(pct / 100 * sum(all_vals))\n",
    "    return f\"{pct:.2f}% {absolute:,.2f}€\"\n",
    "\n",
    "\n",
    "def calcul_apport(df, actif):\n",
    "    return df.loc[df[\"Actif\"] == actif, \"Montant\"].sum()\n",
    "\n",
    "\n",
    "def color_based_on_value(val):\n",
    "    if val > INFLATION * 2:\n",
    "        return \"background-color: lightgreen\"\n",
    "    elif val > INFLATION:\n",
    "        return \"background-color: gold\"\n",
    "    else:\n",
    "        return \"background-color: salmon\""
   ]
  },
  {
   "cell_type": "markdown",
   "id": "9e47c627",
   "metadata": {},
   "source": [
    "### Clean data"
   ]
  },
  {
   "cell_type": "code",
   "execution_count": 223,
   "id": "aa0048aa",
   "metadata": {},
   "outputs": [],
   "source": [
    "patrimoine = pd.read_csv(\"patrimoine.csv\")\n",
    "revenus_depenses = pd.read_csv(\"revenus-depenses.csv\")\n",
    "objectifs = pd.read_csv(\"objectif_long_terme.csv\")\n",
    "\n",
    "patrimoine[\"Valorisation\"] = pd.to_numeric(patrimoine[\"Valorisation\"])\n",
    "# patrimoine[\"Apport\"] = pd.to_numeric(patrimoine[\"Apport\"])\n",
    "\n",
    "revenus_depenses[\"Montant\"] = pd.to_numeric(revenus_depenses[\"Montant\"])\n",
    "\n",
    "objectifs[\"Valeur\"] = pd.to_numeric(objectifs[\"Valeur\"])\n",
    "objectifs[\"Date\"] = pd.to_datetime(objectifs[\"Date\"], dayfirst=True)\n",
    "\n",
    "apport = pd.read_csv(\"apport.csv\")\n",
    "apport[\"Date\"] = pd.to_datetime(apport[\"Date\"], dayfirst=True)\n",
    "apport[\"Montant\"] = pd.to_numeric(apport[\"Montant\"])\n",
    "\n",
    "apport_list = []\n",
    "for actif in patrimoine[\"Actif\"]:\n",
    "    apport_list.append(calcul_apport(apport, actif))\n",
    "patrimoine[\"Apport\"] = apport_list"
   ]
  },
  {
   "cell_type": "markdown",
   "id": "92598087",
   "metadata": {},
   "source": [
    "### Traitement de la data"
   ]
  },
  {
   "cell_type": "code",
   "execution_count": 224,
   "id": "2afc60b5",
   "metadata": {},
   "outputs": [],
   "source": [
    "patrimoine = patrimoine.sort_values(by=[\"Valorisation\"], ascending=False)"
   ]
  },
  {
   "cell_type": "markdown",
   "id": "9a6adad0",
   "metadata": {},
   "source": [
    "# Composition"
   ]
  },
  {
   "cell_type": "code",
   "execution_count": null,
   "id": "7663fc57",
   "metadata": {},
   "outputs": [],
   "source": [
    "patrimoine_total = patrimoine[\"Valorisation\"].sum()\n",
    "\n",
    "plt.figure(figsize=(8, 6))\n",
    "plt.pie(\n",
    "    x=patrimoine[\"Valorisation\"],\n",
    "    labels=patrimoine[\"Actif\"],\n",
    "    autopct=lambda pct: format_label(pct, patrimoine[\"Valorisation\"]),\n",
    "    startangle=180,\n",
    ")\n",
    "plt.text(\n",
    "    0,\n",
    "    -1.5,\n",
    "    f\"Patrimoine total : {patrimoine_total:,.2f}€\",\n",
    "    ha=\"center\",\n",
    "    fontsize=12,\n",
    "    color=\"black\",\n",
    ")\n",
    "plt.title(\"Composition de mon patrimoine\")\n",
    "plt.show()"
   ]
  },
  {
   "cell_type": "markdown",
   "id": "1b3e894a",
   "metadata": {},
   "source": [
    "# Performance des investissements"
   ]
  },
  {
   "cell_type": "code",
   "execution_count": 226,
   "id": "22e54afb",
   "metadata": {},
   "outputs": [],
   "source": [
    "def calcul_pmv(row):\n",
    "    if row[\"Type\"] != \"livret\":\n",
    "        return row[\"Valorisation\"] - row[\"Apport\"]\n",
    "    else:\n",
    "        return 0\n",
    "\n",
    "\n",
    "def calcul_perf(row):\n",
    "    if row[\"Type\"] != \"livret\":\n",
    "        return row[\"Plus-Moins Value\"] / row[\"Valorisation\"]\n",
    "    else:\n",
    "        return INTERET_LIVRET_A"
   ]
  },
  {
   "cell_type": "code",
   "execution_count": 227,
   "id": "3a91a2d0",
   "metadata": {},
   "outputs": [],
   "source": [
    "patrimoine[\"Plus-Moins Value\"] = patrimoine.apply(calcul_pmv, axis=1)\n",
    "patrimoine[\"Performance\"] = patrimoine.apply(calcul_perf, axis=1)"
   ]
  },
  {
   "cell_type": "code",
   "execution_count": null,
   "id": "5e1fb039-2dfb-4b6e-8ede-28bd74d6a45c",
   "metadata": {},
   "outputs": [
    {
     "data": {
      "text/plain": [
       "5"
      ]
     },
     "execution_count": 2,
     "metadata": {},
     "output_type": "execute_result"
    }
   ],
   "source": [
    "my_print(patrimoine)"
   ]
  },
  {
   "cell_type": "code",
   "execution_count": 229,
   "id": "bd48502c",
   "metadata": {},
   "outputs": [],
   "source": [
    "patrimoine_melted = patrimoine.drop(\n",
    "    columns=[\"Apport\", \"Type\", \"Valorisation\", \"Plus-Moins Value\"]\n",
    ").melt(id_vars=\"Actif\", var_name=\"Type\", value_name=\"Valeur\")"
   ]
  },
  {
   "cell_type": "code",
   "execution_count": null,
   "id": "5e413b78",
   "metadata": {},
   "outputs": [],
   "source": [
    "plt.figure(figsize=(10, 6))\n",
    "sns.barplot(data=patrimoine_melted, x=\"Actif\", y=\"Valeur\", hue=\"Type\")\n",
    "\n",
    "plt.title(\"Performance par Actif\", fontsize=14)\n",
    "plt.xlabel(\"Actif\")\n",
    "plt.ylabel(\"Valeur\")\n",
    "plt.legend(title=\"Type de mesure\")\n",
    "\n",
    "plt.show()"
   ]
  },
  {
   "cell_type": "markdown",
   "id": "a4a6d866-0d8f-4290-911e-4e239c42a777",
   "metadata": {},
   "source": [
    "# Ceux-ci est un texte"
   ]
  },
  {
   "cell_type": "code",
   "execution_count": 231,
   "id": "f9a50e7d",
   "metadata": {},
   "outputs": [
    {
     "name": "stdout",
     "output_type": "stream",
     "text": [
      "salut\n"
     ]
    }
   ],
   "source": [
    "print('salut')"
   ]
  },
  {
   "cell_type": "code",
   "execution_count": null,
   "id": "b7e96999",
   "metadata": {},
   "outputs": [],
   "source": [
    "nette_dinflation = patrimoine[[\"Actif\"]].copy()\n",
    "nette_dinflation[\"Type\"] = patrimoine[\"Type\"]\n",
    "nette_dinflation[\"Plus-Moins Value\"] = patrimoine.apply(ajout_inflation_pmv, axis=1)\n",
    "nette_dinflation[\"Performance\"] = patrimoine.apply(ajout_inflation_perf, axis=1)\n",
    "my_print(nette_dinflation)"
   ]
  },
  {
   "cell_type": "markdown",
   "id": "a5e36b95",
   "metadata": {},
   "source": [
    "## Prise en compte de l'impôt"
   ]
  },
  {
   "cell_type": "code",
   "execution_count": 233,
   "id": "d20b3f43",
   "metadata": {},
   "outputs": [],
   "source": [
    "def calcul_impot_pmv(row):\n",
    "    if row[\"Plus-Moins Value\"] > 0:\n",
    "        if row[\"Type\"] == \"boursier\" or row[\"Type\"] == \"numerique\":\n",
    "            return row[\"Plus-Moins Value\"] * (1 - FLAT_TAXE)\n",
    "        elif row[\"Type\"] == \"foncier\":\n",
    "            return row[\"Plus-Moins Value\"] * (1 - IR - PS)\n",
    "        else:\n",
    "            return row[\"Plus-Moins Value\"]\n",
    "    else:\n",
    "        return row[\"Plus-Moins Value\"]\n",
    "\n",
    "\n",
    "def calcul_impot_perf(row):\n",
    "    if row[\"Performance\"] > 0:\n",
    "        if row[\"Type\"] == \"boursier\" or row[\"Type\"] == \"numerique\":\n",
    "            return row[\"Performance\"] * (1 - FLAT_TAXE)\n",
    "        elif row[\"Type\"] == \"foncier\":\n",
    "            return row[\"Performance\"] * (1 - IR - PS)\n",
    "        else:\n",
    "            return row[\"Performance\"]\n",
    "    else:\n",
    "        return row[\"Performance\"]"
   ]
  },
  {
   "cell_type": "code",
   "execution_count": null,
   "id": "1d7db15c",
   "metadata": {},
   "outputs": [],
   "source": [
    "nette_dimpot = patrimoine[[\"Actif\"]].copy()\n",
    "nette_dimpot[\"Type\"] = patrimoine[\"Type\"]\n",
    "nette_dimpot[\"Plus-Moins Value\"] = nette_dinflation.apply(calcul_impot_pmv, axis=1)\n",
    "nette_dimpot[\"Performance\"] = nette_dinflation.apply(calcul_impot_perf, axis=1)\n",
    "my_print(nette_dimpot)"
   ]
  },
  {
   "cell_type": "markdown",
   "id": "32bdce9d",
   "metadata": {},
   "source": [
    "# Revenus et dépenses"
   ]
  },
  {
   "cell_type": "markdown",
   "id": "6a490d7b",
   "metadata": {},
   "source": [
    "### Traitement de la data"
   ]
  },
  {
   "cell_type": "code",
   "execution_count": 235,
   "id": "0ef956c0",
   "metadata": {},
   "outputs": [],
   "source": [
    "revenus_depenses = revenus_depenses.sort_values(by=[\"Montant\"], ascending=False)"
   ]
  },
  {
   "cell_type": "markdown",
   "id": "c5585114",
   "metadata": {},
   "source": [
    "## Répartition des dépenses"
   ]
  },
  {
   "cell_type": "code",
   "execution_count": null,
   "id": "ad580e2c",
   "metadata": {},
   "outputs": [],
   "source": [
    "depense = revenus_depenses.loc[revenus_depenses[\"Type\"] == \"depense\"]\n",
    "plt.figure(figsize=(8, 6))\n",
    "plt.pie(\n",
    "    x=depense[\"Montant\"],\n",
    "    labels=depense[\"Nom\"],\n",
    "    autopct=lambda pct: format_label(pct, depense[\"Montant\"]),\n",
    "    startangle=180,\n",
    ")\n",
    "plt.title(\"Répartition des dépenses\")\n",
    "plt.show()"
   ]
  },
  {
   "cell_type": "markdown",
   "id": "460e838f",
   "metadata": {},
   "source": [
    "# Indicateurs et ratios"
   ]
  },
  {
   "cell_type": "markdown",
   "id": "ba9bbb6b",
   "metadata": {},
   "source": [
    "## Calcul des indicateurs et ratios"
   ]
  },
  {
   "cell_type": "code",
   "execution_count": 237,
   "id": "f70a606b",
   "metadata": {},
   "outputs": [],
   "source": [
    "def convert_eur_to_usdc(euros):\n",
    "    return euros * RATIO_EUR_USDC"
   ]
  },
  {
   "cell_type": "code",
   "execution_count": 238,
   "id": "65d173d4",
   "metadata": {},
   "outputs": [],
   "source": [
    "revenu_total = revenus_depenses.loc[\n",
    "    revenus_depenses[\"Type\"] == \"revenu\", \"Montant\"\n",
    "].sum()\n",
    "depense_total = revenus_depenses.loc[\n",
    "    revenus_depenses[\"Type\"] == \"depense\", \"Montant\"\n",
    "].sum()\n",
    "epargne = revenu_total - depense_total\n",
    "taux_depargne = epargne / revenu_total\n",
    "\n",
    "pourcentage_don = depense[\"Montant\"].values[1] / revenu_total\n",
    "ratio_liquidite = (\n",
    "    patrimoine.loc[patrimoine[\"Type\"] == \"livret\", \"Valorisation\"].sum() / depense_total\n",
    ")\n",
    "\n",
    "taux_depense_variable = (\n",
    "    revenus_depenses.loc[\n",
    "        (revenus_depenses[\"Nom\"] == \"Courante\")\n",
    "        & (revenus_depenses[\"Type\"] == \"depense\"),\n",
    "        \"Montant\",\n",
    "    ].sum()\n",
    "    / revenu_total\n",
    ")\n",
    "taux_depense_mensuelle = (\n",
    "    revenus_depenses.loc[\n",
    "        (revenus_depenses[\"Nom\"] != \"Courante\")\n",
    "        & (revenus_depenses[\"Type\"] == \"depense\"),\n",
    "        \"Montant\",\n",
    "    ].sum()\n",
    "    / revenu_total\n",
    ")"
   ]
  },
  {
   "cell_type": "code",
   "execution_count": 239,
   "id": "8d875451",
   "metadata": {},
   "outputs": [],
   "source": [
    "pmv_crypto = patrimoine[\"Plus-Moins Value\"][1]\n",
    "per_crypto = patrimoine[\"Performance\"][1]\n",
    "\n",
    "trade_crypto_max = pmv_crypto * RATIO_TRADE_MAX / per_crypto\n",
    "\n",
    "trade_crypto_max_usdc = convert_eur_to_usdc(trade_crypto_max)"
   ]
  },
  {
   "cell_type": "code",
   "execution_count": null,
   "id": "17b97dac",
   "metadata": {},
   "outputs": [],
   "source": [
    "print(\"Taux d'épargne: {:.2%}\".format(taux_depargne))\n",
    "print(\"Taux de dépense variable: {:.2%}\".format(taux_depense_variable))\n",
    "print(\"Taux de dépense mensuelle: {:.2%}\".format(taux_depense_mensuelle))\n",
    "print(\"Pourcentage de don: {:.2%}\".format(pourcentage_don))\n",
    "print(\"Ratio de liquidité: {:.2}\".format(ratio_liquidite))\n",
    "print(\"Trade USDC maximal acceptable: {:.2f}\".format(trade_crypto_max_usdc))"
   ]
  },
  {
   "cell_type": "markdown",
   "id": "9e2c3292",
   "metadata": {},
   "source": [
    "# Objectifs"
   ]
  },
  {
   "cell_type": "code",
   "execution_count": 241,
   "id": "cb03e736",
   "metadata": {},
   "outputs": [],
   "source": [
    "def calcul_progression(row):\n",
    "    if (patrimoine_total / row[\"Valeur\"]) > 1:\n",
    "        return 1\n",
    "    else:\n",
    "        return patrimoine_total / row[\"Valeur\"]"
   ]
  },
  {
   "cell_type": "code",
   "execution_count": null,
   "id": "a605dd2e",
   "metadata": {},
   "outputs": [],
   "source": [
    "objectifs[\"Progression\"] = objectifs.apply(calcul_progression, axis=1)\n",
    "print_objectif(objectifs)"
   ]
  }
 ],
 "metadata": {
  "kernelspec": {
   "display_name": "Python 3",
   "language": "python",
   "name": "python3"
  },
  "language_info": {
   "codemirror_mode": {
    "name": "ipython",
    "version": 3
   },
   "file_extension": ".py",
   "mimetype": "text/x-python",
   "name": "python",
   "nbconvert_exporter": "python",
   "pygments_lexer": "ipython3",
   "version": "3.11.10"
  }
 },
 "nbformat": 4,
 "nbformat_minor": 5
}
