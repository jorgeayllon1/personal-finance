{
 "cells": [
  {
   "cell_type": "markdown",
   "metadata": {},
   "source": [
    "# Projection de patrimoine boursier"
   ]
  },
  {
   "cell_type": "code",
   "execution_count": 1,
   "metadata": {},
   "outputs": [],
   "source": [
    "import numpy as np\n",
    "import matplotlib.pyplot as plt\n",
    "import matplotlib.dates as mdates\n",
    "from datetime import datetime\n",
    "import pandas as pd\n",
    "import yaml"
   ]
  },
  {
   "cell_type": "code",
   "execution_count": 2,
   "metadata": {},
   "outputs": [],
   "source": [
    "with open(\"config.yaml\", \"r\") as f:\n",
    "    config = yaml.safe_load(f)\n",
    "\n",
    "MAX_APPORT_PEA = config[\"MAX_APPORT_PEA\"]\n",
    "DATA_FOLDER = config[\"DATA_FOLDER\"]"
   ]
  },
  {
   "cell_type": "code",
   "execution_count": 3,
   "metadata": {},
   "outputs": [],
   "source": [
    "effort_depargne = 2000\n",
    "taux_dinteret = 0.12\n",
    "nombre_danne = 6\n",
    "age_initial = 26\n",
    "date_actuelle = datetime.today()"
   ]
  },
  {
   "cell_type": "code",
   "execution_count": 4,
   "metadata": {},
   "outputs": [],
   "source": [
    "patrimoine = pd.read_csv(DATA_FOLDER + \"valorisation.csv\")\n",
    "patrimoine[\"Valorisation\"] = pd.to_numeric(patrimoine[\"Valorisation\"])\n",
    "patrimoine_total = patrimoine[\"Valorisation\"].sum()\n",
    "valorisation_bourse = patrimoine.loc[\n",
    "    patrimoine[\"Actif\"] == \"Action\", \"Valorisation\"\n",
    "].sum()"
   ]
  },
  {
   "cell_type": "code",
   "execution_count": 5,
   "metadata": {},
   "outputs": [],
   "source": [
    "apport = pd.read_csv(DATA_FOLDER + \"apport.csv\")\n",
    "apport[\"Date\"] = pd.to_datetime(apport[\"Date\"], dayfirst=True)\n",
    "apport[\"Montant\"] = pd.to_numeric(apport[\"Montant\"])\n",
    "apport_initial = apport.loc[apport[\"Actif\"]==\"Action\",\"Montant\"].sum()"
   ]
  },
  {
   "cell_type": "code",
   "execution_count": null,
   "metadata": {},
   "outputs": [],
   "source": [
    "dates = pd.date_range(start=date_actuelle, periods=nombre_danne * 12, freq=\"ME\")\n",
    "print(len(dates))"
   ]
  },
  {
   "cell_type": "code",
   "execution_count": 7,
   "metadata": {},
   "outputs": [],
   "source": [
    "def calcul_interet_composes_avec_apport(E, i, k0, mois):\n",
    "    r = i / 12\n",
    "    valo = k0 * np.power(1 + r, mois) + E * (np.power(1 + r, mois) - 1) / r\n",
    "    return valo\n",
    "\n",
    "\n",
    "def calcul_interet_composes(k0, i):\n",
    "    r = i / 12\n",
    "    valo = k0 * (1 + r)\n",
    "    return valo"
   ]
  },
  {
   "cell_type": "code",
   "execution_count": 8,
   "metadata": {},
   "outputs": [],
   "source": [
    "evolution = []\n",
    "for mois in range(nombre_danne * 12):\n",
    "    if apport_initial + effort_depargne * mois < MAX_APPORT_PEA:\n",
    "        evolution.append(\n",
    "            calcul_interet_composes_avec_apport(\n",
    "                effort_depargne, taux_dinteret, valorisation_bourse, mois\n",
    "            )\n",
    "        )\n",
    "    else:\n",
    "        evolution.append(calcul_interet_composes(evolution[-1], taux_dinteret))"
   ]
  },
  {
   "cell_type": "code",
   "execution_count": 9,
   "metadata": {},
   "outputs": [],
   "source": [
    "ages = [age_initial + i // 12 for i in range(len(dates))]"
   ]
  },
  {
   "cell_type": "code",
   "execution_count": 10,
   "metadata": {},
   "outputs": [],
   "source": [
    "plt.figure(figsize=(14, 8))\n",
    "plt.plot(dates, evolution, label=\"Evolution du capital Boursier\")\n",
    "plt.title(\"Évolution des intérêts composés avec apport mensuel sur PEA\")\n",
    "plt.xlabel(\"Date\")\n",
    "plt.ylabel(\"Montant (€)\")\n",
    "plt.grid()\n",
    "plt.legend()\n",
    "\n",
    "for i in range(0, len(dates), 12):  # Tous les ans\n",
    "    plt.text(\n",
    "        dates[i],\n",
    "        evolution[i],\n",
    "        f\"{ages[i]} ans - {evolution[i]:,.2f}€\",\n",
    "        fontsize=9,\n",
    "        ha=\"center\",\n",
    "        color=\"blue\",\n",
    "    )\n",
    "# plt.text(\n",
    "#     0,\n",
    "#     -1.5,\n",
    "#     f\"Patrimoine final en {nombre_danne} ans : {evolution[-1]:,.2f}€\",\n",
    "#     ha=\"right\",\n",
    "#     fontsize=12,\n",
    "#     color=\"black\",\n",
    "# )\n",
    "\n",
    "ax = plt.gca()\n",
    "ax.xaxis.set_major_formatter(mdates.DateFormatter(\"%b %y\"))\n",
    "\n",
    "plt.xticks(dates[::3], rotation=45)\n",
    "plt.tight_layout()\n",
    "plt.savefig(\"image/\" + \"projection.png\")\n",
    "# plt.show()\n",
    "plt.close()"
   ]
  }
 ],
 "metadata": {
  "kernelspec": {
   "display_name": "base",
   "language": "python",
   "name": "python3"
  },
  "language_info": {
   "codemirror_mode": {
    "name": "ipython",
    "version": 3
   },
   "file_extension": ".py",
   "mimetype": "text/x-python",
   "name": "python",
   "nbconvert_exporter": "python",
   "pygments_lexer": "ipython3",
   "version": "3.12.7"
  }
 },
 "nbformat": 4,
 "nbformat_minor": 2
}
