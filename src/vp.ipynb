{
 "cells": [
  {
   "cell_type": "markdown",
   "metadata": {},
   "source": [
    "# Tableau de bord"
   ]
  },
  {
   "cell_type": "code",
   "execution_count": null,
   "metadata": {},
   "outputs": [],
   "source": [
    "from IPython.display import Image, display\n",
    "import yaml\n",
    "\n",
    "with open(\"config.yaml\",\"r\") as f:\n",
    "    config = yaml.safe_load(f)\n",
    "\n",
    "IMAGE_FOLDER = config[\"IMAGE_FOLDER\"]\n",
    "RAPPORT_FOLDER = config[\"RAPPORT_FOLDER\"]\n",
    "\n",
    "graph_files = [\n",
    "    IMAGE_FOLDER + \"composition-patrimoine.png\",\n",
    "    IMAGE_FOLDER + \"perf-par-actif.png\",\n",
    "    IMAGE_FOLDER + \"repartition-depenses.png\",\n",
    "]\n",
    "\n",
    "for file in graph_files:\n",
    "    display(Image(filename=file))"
   ]
  },
  {
   "cell_type": "code",
   "execution_count": null,
   "metadata": {},
   "outputs": [],
   "source": [
    "from matplotlib.backends.backend_pdf import PdfPages\n",
    "import matplotlib.pyplot as plt\n",
    "import os\n",
    "from datetime import datetime\n",
    "\n",
    "ajd = datetime.today().strftime(\"%d-%m-%Y\")\n",
    "\n",
    "with PdfPages(RAPPORT_FOLDER + \"rapport_\" + ajd + \".pdf\") as pdf:\n",
    "    for file in graph_files:\n",
    "        if os.path.exists(file):\n",
    "            img = plt.imread(file)\n",
    "            fig, ax = plt.subplots(figsize=(8, 6))\n",
    "            ax.imshow(img)\n",
    "            ax.axis(\"off\")\n",
    "            pdf.savefig(fig)\n",
    "            plt.close(fig)"
   ]
  }
 ],
 "metadata": {
  "kernelspec": {
   "display_name": "base",
   "language": "python",
   "name": "python3"
  },
  "language_info": {
   "codemirror_mode": {
    "name": "ipython",
    "version": 3
   },
   "file_extension": ".py",
   "mimetype": "text/x-python",
   "name": "python",
   "nbconvert_exporter": "python",
   "pygments_lexer": "ipython3",
   "version": "3.12.7"
  }
 },
 "nbformat": 4,
 "nbformat_minor": 2
}
