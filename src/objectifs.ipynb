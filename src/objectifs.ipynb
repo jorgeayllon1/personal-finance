{
 "cells": [
  {
   "cell_type": "markdown",
   "metadata": {},
   "source": [
    "# Objectifs"
   ]
  },
  {
   "cell_type": "code",
   "execution_count": null,
   "metadata": {},
   "outputs": [],
   "source": [
    "import pandas as pd\n",
    "import yaml"
   ]
  },
  {
   "cell_type": "code",
   "execution_count": null,
   "metadata": {},
   "outputs": [],
   "source": [
    "with open(\"config.yaml\", \"r\") as f:\n",
    "    config = yaml.safe_load(f)\n",
    "\n",
    "DATA_FOLDER = config[\"DATA_FOLDER\"]"
   ]
  },
  {
   "cell_type": "code",
   "execution_count": null,
   "metadata": {},
   "outputs": [],
   "source": [
    "def print_objectif(row):\n",
    "    return (\n",
    "        row.drop(columns=[\"Etat\"])\n",
    "        .style.format(\n",
    "            {\n",
    "                \"Valeur\": \"{:,.2f}€\",\n",
    "                \"Progression\": \"{:.2%}\",\n",
    "            }\n",
    "        )\n",
    "        .hide()\n",
    "    )"
   ]
  },
  {
   "cell_type": "code",
   "execution_count": null,
   "metadata": {},
   "outputs": [],
   "source": [
    "patrimoine = pd.read_csv(DATA_FOLDER + \"valorisation.csv\")\n",
    "patrimoine[\"Valorisation\"] = pd.to_numeric(patrimoine[\"Valorisation\"])\n",
    "patrimoine_total = patrimoine[\"Valorisation\"].sum()\n",
    "\n",
    "objectifs = pd.read_csv(DATA_FOLDER + \"objectif_long_terme.csv\")\n",
    "objectifs[\"Valeur\"] = pd.to_numeric(objectifs[\"Valeur\"])\n",
    "objectifs[\"Date\"] = pd.to_datetime(objectifs[\"Date\"], dayfirst=True)"
   ]
  },
  {
   "cell_type": "code",
   "execution_count": null,
   "metadata": {},
   "outputs": [],
   "source": [
    "def calcul_progression(row):\n",
    "    if (patrimoine_total / row[\"Valeur\"]) > 1:\n",
    "        return 1\n",
    "    else:\n",
    "        return patrimoine_total / row[\"Valeur\"]"
   ]
  },
  {
   "cell_type": "code",
   "execution_count": null,
   "metadata": {},
   "outputs": [],
   "source": [
    "objectifs[\"Progression\"] = objectifs.apply(calcul_progression, axis=1)\n",
    "print_objectif(objectifs)"
   ]
  }
 ],
 "metadata": {
  "kernelspec": {
   "display_name": "base",
   "language": "python",
   "name": "python3"
  },
  "language_info": {
   "codemirror_mode": {
    "name": "ipython",
    "version": 3
   },
   "file_extension": ".py",
   "mimetype": "text/x-python",
   "name": "python",
   "nbconvert_exporter": "python",
   "pygments_lexer": "ipython3",
   "version": "3.12.7"
  }
 },
 "nbformat": 4,
 "nbformat_minor": 2
}
