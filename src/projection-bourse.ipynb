{
 "cells": [
  {
   "cell_type": "markdown",
   "metadata": {},
   "source": [
    "# Projection de patrimoine boursier"
   ]
  },
  {
   "cell_type": "code",
   "execution_count": 89,
   "metadata": {},
   "outputs": [],
   "source": [
    "import numpy as np\n",
    "import matplotlib.pyplot as plt"
   ]
  },
  {
   "cell_type": "code",
   "execution_count": 90,
   "metadata": {},
   "outputs": [],
   "source": [
    "effort_depargne = 2000\n",
    "taux_dinteret = 0.12\n",
    "capital_depart = 60000\n",
    "nombre_danne = 2\n",
    "# age = 26\n",
    "# anniversaire\n",
    "# date_actuelle = "
   ]
  },
  {
   "cell_type": "code",
   "execution_count": null,
   "metadata": {},
   "outputs": [],
   "source": [
    "def calcul_interet_composes_avec_apport(E, i, k0, anne):\n",
    "    evolution = []\n",
    "    r = i / 12\n",
    "    n = anne * 12\n",
    "    for mois in range(n - 1):\n",
    "        valo = k0 * np.power(1 + r, mois) + E * (np.power(1 + r, mois) - 1) / r\n",
    "        evolution.append(valo.round(2))\n",
    "    return evolution\n",
    "\n",
    "\n",
    "evolution = calcul_interet_composes_avec_apport(\n",
    "    effort_depargne, taux_dinteret, capital_depart, nombre_danne\n",
    ")\n",
    "\n",
    "mois = np.arange(len(evolution))\n",
    "plt.figure(figsize=(12, 5))\n",
    "plt.plot(mois, evolution, label=\"Evolution du capital Boursier\")\n",
    "plt.xlabel(\"Mois\")\n",
    "plt.ylabel(\"Montant (€)\")\n",
    "plt.text(\n",
    "    0,\n",
    "    -1.5,\n",
    "    f\"Patrimoine final en {nombre_danne} ans : {evolution[-1]:,.2f}€\",\n",
    "    ha=\"center\",\n",
    "    fontsize=12,\n",
    "    color=\"black\",\n",
    ")\n",
    "plt.legend()\n",
    "plt.grid()\n",
    "plt.show()\n",
    "\n",
    "print((\"Patrimoine total supposé: {}€\".format((evolution[-1]*1.25).round(2))))"
   ]
  }
 ],
 "metadata": {
  "kernelspec": {
   "display_name": "base",
   "language": "python",
   "name": "python3"
  },
  "language_info": {
   "codemirror_mode": {
    "name": "ipython",
    "version": 3
   },
   "file_extension": ".py",
   "mimetype": "text/x-python",
   "name": "python",
   "nbconvert_exporter": "python",
   "pygments_lexer": "ipython3",
   "version": "3.12.7"
  }
 },
 "nbformat": 4,
 "nbformat_minor": 2
}
