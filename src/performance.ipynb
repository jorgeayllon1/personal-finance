{
 "cells": [
  {
   "cell_type": "markdown",
   "metadata": {},
   "source": [
    "# Performance des investissements"
   ]
  },
  {
   "cell_type": "code",
   "execution_count": 10,
   "metadata": {},
   "outputs": [],
   "source": [
    "import pandas as pd\n",
    "import matplotlib.pyplot as plt\n",
    "import seaborn as sns\n",
    "import yaml"
   ]
  },
  {
   "cell_type": "code",
   "execution_count": 11,
   "metadata": {},
   "outputs": [],
   "source": [
    "with open(\"config.yaml\", \"r\") as f:\n",
    "    config = yaml.safe_load(f)\n",
    "\n",
    "INTERET_LIVRET_A = config[\"INTERET_LIVRET_A\"]\n",
    "DATA_FOLDER = config[\"DATA_FOLDER\"]\n",
    "INFLATION = config[\"INFLATION\"]\n",
    "IMAGE_FOLDER = config[\"IMAGE_FOLDER\"]"
   ]
  },
  {
   "cell_type": "code",
   "execution_count": 12,
   "metadata": {},
   "outputs": [],
   "source": [
    "def calcul_pmv(row):\n",
    "    if row[\"Type\"] != \"livret\":\n",
    "        return row[\"Valorisation\"] - row[\"Apport\"]\n",
    "    else:\n",
    "        return 0\n",
    "\n",
    "\n",
    "def calcul_perf(row):\n",
    "    if row[\"Type\"] != \"livret\":\n",
    "        return row[\"Plus-Moins Value\"] / row[\"Valorisation\"]\n",
    "    else:\n",
    "        return INTERET_LIVRET_A\n",
    "\n",
    "\n",
    "def calcul_apport(df, actif):\n",
    "    return df.loc[df[\"Actif\"] == actif, \"Montant\"].sum()\n",
    "\n",
    "\n",
    "def color_based_on_value(val):\n",
    "    if val > INFLATION * 2:\n",
    "        return \"background-color: lightgreen\"\n",
    "    elif val > INFLATION:\n",
    "        return \"background-color: gold\"\n",
    "    else:\n",
    "        return \"background-color: salmon\"\n",
    "\n",
    "\n",
    "def my_print(df):\n",
    "    return (\n",
    "        df.drop(columns=[\"Type\"])\n",
    "        .style.format(\n",
    "            {\n",
    "                \"Valorisation\": \"{:,.2f}€\",\n",
    "                \"Apport\": \"{:,.2f}€\",\n",
    "                \"Plus-Moins Value\": \"{:,.2f}€\",\n",
    "                \"Performance\": \"{:.2%}\",\n",
    "            }\n",
    "        )\n",
    "        .hide()\n",
    "    ).map(color_based_on_value, subset=[\"Performance\"])"
   ]
  },
  {
   "cell_type": "code",
   "execution_count": 13,
   "metadata": {},
   "outputs": [],
   "source": [
    "apport = pd.read_csv(DATA_FOLDER + \"apport.csv\")\n",
    "apport[\"Date\"] = pd.to_datetime(apport[\"Date\"], dayfirst=True)\n",
    "apport[\"Montant\"] = pd.to_numeric(apport[\"Montant\"])"
   ]
  },
  {
   "cell_type": "code",
   "execution_count": 14,
   "metadata": {},
   "outputs": [],
   "source": [
    "patrimoine = pd.read_csv(DATA_FOLDER + \"patrimoine.csv\")\n",
    "patrimoine[\"Valorisation\"] = pd.to_numeric(patrimoine[\"Valorisation\"])\n",
    "apport_list = []\n",
    "for actif in patrimoine[\"Actif\"]:\n",
    "    apport_list.append(calcul_apport(apport, actif))\n",
    "patrimoine[\"Apport\"] = apport_list"
   ]
  },
  {
   "cell_type": "code",
   "execution_count": 15,
   "metadata": {},
   "outputs": [],
   "source": [
    "patrimoine[\"Plus-Moins Value\"] = patrimoine.apply(calcul_pmv, axis=1)\n",
    "patrimoine[\"Performance\"] = patrimoine.apply(calcul_perf, axis=1)"
   ]
  },
  {
   "cell_type": "code",
   "execution_count": null,
   "metadata": {},
   "outputs": [],
   "source": [
    "my_print(patrimoine)"
   ]
  },
  {
   "cell_type": "code",
   "execution_count": 17,
   "metadata": {},
   "outputs": [],
   "source": [
    "patrimoine_melted = patrimoine.drop(\n",
    "    columns=[\"Apport\", \"Type\", \"Valorisation\", \"Plus-Moins Value\"]\n",
    ").melt(id_vars=\"Actif\", var_name=\"Type\", value_name=\"Valeur\")"
   ]
  },
  {
   "cell_type": "code",
   "execution_count": 18,
   "metadata": {},
   "outputs": [],
   "source": [
    "plt.figure(figsize=(10, 6))\n",
    "sns.barplot(data=patrimoine_melted, x=\"Actif\", y=\"Valeur\", hue=\"Type\")\n",
    "\n",
    "plt.title(\"Performance par Actif\", fontsize=14)\n",
    "plt.xlabel(\"Actif\")\n",
    "plt.ylabel(\"Valeur\")\n",
    "plt.legend(title=\"Type de mesure\")\n",
    "\n",
    "plt.savefig(IMAGE_FOLDER + \"perf-par-actif.png\")\n",
    "plt.close()"
   ]
  }
 ],
 "metadata": {
  "kernelspec": {
   "display_name": "base",
   "language": "python",
   "name": "python3"
  },
  "language_info": {
   "codemirror_mode": {
    "name": "ipython",
    "version": 3
   },
   "file_extension": ".py",
   "mimetype": "text/x-python",
   "name": "python",
   "nbconvert_exporter": "python",
   "pygments_lexer": "ipython3",
   "version": "3.12.7"
  }
 },
 "nbformat": 4,
 "nbformat_minor": 2
}
