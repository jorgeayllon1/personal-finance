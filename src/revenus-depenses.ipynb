{
 "cells": [
  {
   "cell_type": "markdown",
   "metadata": {},
   "source": [
    "# Revenus et dépenses"
   ]
  },
  {
   "cell_type": "code",
   "execution_count": 1,
   "metadata": {},
   "outputs": [],
   "source": [
    "import pandas as pd\n",
    "import matplotlib.pyplot as plt\n",
    "import yaml"
   ]
  },
  {
   "cell_type": "code",
   "execution_count": 2,
   "metadata": {},
   "outputs": [],
   "source": [
    "with open(\"config.yaml\", \"r\") as f:\n",
    "    config = yaml.safe_load(f)\n",
    "\n",
    "DATA_FOLDER = config[\"DATA_FOLDER\"]\n",
    "IMAGE_FOLDER = config[\"IMAGE_FOLDER\"]"
   ]
  },
  {
   "cell_type": "code",
   "execution_count": 3,
   "metadata": {},
   "outputs": [],
   "source": [
    "def format_label(pct, all_vals):\n",
    "    absolute = float(pct / 100 * sum(all_vals))\n",
    "    return f\"{pct:.2f}% {absolute:,.2f}€\""
   ]
  },
  {
   "cell_type": "code",
   "execution_count": 4,
   "metadata": {},
   "outputs": [],
   "source": [
    "revenus_depenses = pd.read_csv(DATA_FOLDER + \"revenus-depenses.csv\")\n",
    "revenus_depenses[\"Montant\"] = pd.to_numeric(revenus_depenses[\"Montant\"])"
   ]
  },
  {
   "cell_type": "code",
   "execution_count": 5,
   "metadata": {},
   "outputs": [],
   "source": [
    "revenus_depenses = revenus_depenses.sort_values(by=[\"Montant\"], ascending=False)"
   ]
  },
  {
   "cell_type": "markdown",
   "metadata": {},
   "source": [
    "## Répartition des dépenses"
   ]
  },
  {
   "cell_type": "code",
   "execution_count": 6,
   "metadata": {},
   "outputs": [],
   "source": [
    "depense = revenus_depenses.loc[revenus_depenses[\"Type\"] == \"depense\"]\n",
    "depense_total = depense[\"Montant\"].sum()\n",
    "plt.figure(figsize=(8, 6))\n",
    "plt.pie(\n",
    "    x=depense[\"Montant\"],\n",
    "    labels=depense[\"Nom\"],\n",
    "    autopct=lambda pct: format_label(pct, depense[\"Montant\"]),\n",
    "    startangle=180,\n",
    ")\n",
    "\n",
    "plt.text(\n",
    "    0,\n",
    "    -1.5,\n",
    "    f\"Dépenses total : {depense_total:,.2f}€\",\n",
    "    ha=\"center\",\n",
    "    fontsize=12,\n",
    "    color=\"black\",\n",
    ")\n",
    "\n",
    "plt.title(\"Répartition des dépenses\")\n",
    "\n",
    "plt.savefig(IMAGE_FOLDER + \"repartition-depenses.png\")\n",
    "plt.close()"
   ]
  }
 ],
 "metadata": {
  "kernelspec": {
   "display_name": "base",
   "language": "python",
   "name": "python3"
  },
  "language_info": {
   "codemirror_mode": {
    "name": "ipython",
    "version": 3
   },
   "file_extension": ".py",
   "mimetype": "text/x-python",
   "name": "python",
   "nbconvert_exporter": "python",
   "pygments_lexer": "ipython3",
   "version": "3.12.7"
  }
 },
 "nbformat": 4,
 "nbformat_minor": 2
}
