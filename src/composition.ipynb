{
 "cells": [
  {
   "cell_type": "markdown",
   "metadata": {},
   "source": [
    "# Composition"
   ]
  },
  {
   "cell_type": "code",
   "execution_count": 1,
   "metadata": {},
   "outputs": [],
   "source": [
    "import pandas as pd\n",
    "import matplotlib.pyplot as plt\n",
    "import yaml"
   ]
  },
  {
   "cell_type": "code",
   "execution_count": 2,
   "metadata": {},
   "outputs": [],
   "source": [
    "def format_label(pct, all_vals):\n",
    "    absolute = float(pct / 100 * sum(all_vals))\n",
    "    return f\"{pct:.2f}% {absolute:,.2f}€\""
   ]
  },
  {
   "cell_type": "code",
   "execution_count": 3,
   "metadata": {},
   "outputs": [],
   "source": [
    "with open(\"config.yaml\", \"r\") as f:\n",
    "    config = yaml.safe_load(f)\n",
    "\n",
    "DATA_FOLDER = config[\"DATA_FOLDER\"]\n",
    "IMAGE_FOLDER = config[\"IMAGE_FOLDER\"]"
   ]
  },
  {
   "cell_type": "code",
   "execution_count": 4,
   "metadata": {},
   "outputs": [],
   "source": [
    "patrimoine = pd.read_csv(DATA_FOLDER + \"valorisation.csv\")\n",
    "patrimoine[\"Valorisation\"] = pd.to_numeric(patrimoine[\"Valorisation\"])\n",
    "patrimoine = patrimoine.sort_values(by=[\"Valorisation\"], ascending=False)"
   ]
  },
  {
   "cell_type": "code",
   "execution_count": 5,
   "metadata": {},
   "outputs": [],
   "source": [
    "patrimoine_total = patrimoine[\"Valorisation\"].sum()\n",
    "\n",
    "plt.figure(figsize=(10, 8))\n",
    "plt.pie(\n",
    "    x=patrimoine[\"Valorisation\"],\n",
    "    labels=patrimoine[\"Actif\"],\n",
    "    autopct=lambda pct: format_label(pct, patrimoine[\"Valorisation\"]),\n",
    "    startangle=180,\n",
    ")\n",
    "plt.text(\n",
    "    0,\n",
    "    -1.5,\n",
    "    f\"Patrimoine total : {patrimoine_total:,.2f}€\",\n",
    "    ha=\"center\",\n",
    "    fontsize=12,\n",
    "    color=\"black\",\n",
    ")\n",
    "plt.title(\"Composition de mon patrimoine\")\n",
    "plt.tight_layout()\n",
    "\n",
    "plt.savefig(IMAGE_FOLDER + \"composition-patrimoine.png\")\n",
    "plt.close()"
   ]
  }
 ],
 "metadata": {
  "kernelspec": {
   "display_name": "base",
   "language": "python",
   "name": "python3"
  },
  "language_info": {
   "codemirror_mode": {
    "name": "ipython",
    "version": 3
   },
   "file_extension": ".py",
   "mimetype": "text/x-python",
   "name": "python",
   "nbconvert_exporter": "python",
   "pygments_lexer": "ipython3",
   "version": "3.12.7"
  }
 },
 "nbformat": 4,
 "nbformat_minor": 2
}
